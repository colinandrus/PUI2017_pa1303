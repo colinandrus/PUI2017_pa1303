{
 "cells": [
  {
   "cell_type": "code",
   "execution_count": 20,
   "metadata": {
    "collapsed": true
   },
   "outputs": [],
   "source": [
    "import os\n",
    "import sys\n",
    "import numpy as np\n",
    "import matplotlib.pyplot as plt\n",
    "\n",
    "\n"
   ]
  },
  {
   "cell_type": "code",
   "execution_count": 19,
   "metadata": {
    "collapsed": false
   },
   "outputs": [],
   "source": []
  },
  {
   "cell_type": "code",
   "execution_count": 2,
   "metadata": {
    "collapsed": false
   },
   "outputs": [
    {
     "name": "stdout",
     "output_type": "stream",
     "text": [
      "we must assess the statistical significance\n"
     ]
    }
   ],
   "source": [
    "alpha=0.05\n",
    "# we like fractions better then percentages. as a rule of thumb, either use fractions or counts\n",
    "P_0 = 3.5 * 0.01 \n",
    "P_1 = 70.1 * 0.01\n",
    "\n",
    "if P_0 - P_1 >= 0:\n",
    "    # we are done\n",
    "    print (\"the Null holds\")\n",
    "else:\n",
    "    print (\"we must assess the statistical significance\")\n",
    "\n",
    "n_0 = 409\n",
    "n_1 = 564\n",
    "\n",
    "#lets get the counts by multiplying by the sample size\n",
    "Nt_0 = P_0 * n_0\n",
    "Nt_1 = P_1 * n_1"
   ]
  },
  {
   "cell_type": "code",
   "execution_count": 3,
   "metadata": {
    "collapsed": false
   },
   "outputs": [
    {
     "name": "stdout",
     "output_type": "stream",
     "text": [
      "0.421047276465\n"
     ]
    }
   ],
   "source": [
    "\n",
    "#define the sample proportion first\n",
    "sp = (P_0 * n_0 + P_1 * n_1) / (n_1 + n_0)\n",
    "print (sp)"
   ]
  },
  {
   "cell_type": "code",
   "execution_count": 4,
   "metadata": {
    "collapsed": true
   },
   "outputs": [],
   "source": [
    "p = lambda p0, p1, n0, n1: (p0 * n0 + p1 * n1) / (n0 + n1)\n",
    "#standard error\n",
    "se = lambda p, n0, n1: np.sqrt(p * (1 - p) * (1.0 / n0 + 1.0 / n1))"
   ]
  },
  {
   "cell_type": "code",
   "execution_count": 8,
   "metadata": {
    "collapsed": false
   },
   "outputs": [
    {
     "name": "stdout",
     "output_type": "stream",
     "text": [
      "20.7697865408\n"
     ]
    }
   ],
   "source": [
    "zscore = lambda p0, p1, s : (p0 - p1) / s\n",
    "z_2y = zscore(P_1, P_0, se(p(P_0, P_1, n_0, n_1), n_0, n_1))\n",
    "print (z_2y)"
   ]
  },
  {
   "cell_type": "code",
   "execution_count": 9,
   "metadata": {
    "collapsed": false
   },
   "outputs": [
    {
     "name": "stdout",
     "output_type": "stream",
     "text": [
      "is the p value 0.00 smaller than the critical value 0.05?\n",
      "YES!\n",
      "the Null hypothesis is rejected\n"
     ]
    }
   ],
   "source": [
    "p_2y = 1 - 0.9984\n",
    "\n",
    "\n",
    "def report_result(p,a):\n",
    "    print ('is the p value ' + \n",
    "           '{0:.2f} smaller than the critical value {1:.2f}?'.format(p,a))\n",
    "    if p < a:\n",
    "        print (\"YES!\")\n",
    "    else: \n",
    "        print (\"NO!\")\n",
    "    \n",
    "    print ('the Null hypothesis is {}'.format(\\\n",
    "                            'rejected' if p < a  else 'not rejected') )\n",
    "\n",
    "    \n",
    "report_result(p_2y, alpha)"
   ]
  },
  {
   "cell_type": "markdown",
   "metadata": {},
   "source": [
    "NULL HYPOTHESIS: the % of former prisoners convicted of a felony is the same or higher for candidates who participated in the program as for the control group, significance level p=0.05"
   ]
  },
  {
   "cell_type": "code",
   "execution_count": 41,
   "metadata": {
    "collapsed": false
   },
   "outputs": [
    {
     "name": "stdout",
     "output_type": "stream",
     "text": [
      "we must assess the statistical significance\n"
     ]
    }
   ],
   "source": [
    "p_1 = 10.0 * .01\n",
    "p_0 = 11.7 * .01\n",
    "\n",
    "if p_0 - p_1 <= 0:\n",
    "    # we are done\n",
    "    print (\"the Null holds\")\n",
    "else:\n",
    "    print (\"we must assess the statistical significance\")\n",
    "    \n",
    "n_0 = 409\n",
    "n_1 = 568\n",
    "\n",
    "Nt_0 = p_0 * n_0\n",
    "Nt_1 = p_1 * n_1"
   ]
  },
  {
   "cell_type": "code",
   "execution_count": 23,
   "metadata": {
    "collapsed": false
   },
   "outputs": [
    {
     "name": "stdout",
     "output_type": "stream",
     "text": [
      "0.107116683726\n"
     ]
    }
   ],
   "source": [
    "sp = (p_0 * n_0 + p_1 * n_1) / (n_1 + n_0)\n",
    "print (sp)"
   ]
  },
  {
   "cell_type": "code",
   "execution_count": 24,
   "metadata": {
    "collapsed": false
   },
   "outputs": [
    {
     "name": "stdout",
     "output_type": "stream",
     "text": [
      "-0.84764020522\n"
     ]
    }
   ],
   "source": [
    "z = zscore(p_1, p_0, se(p(p_0, p_1, n_0, n_1), n_0, n_1))\n",
    "print(z)"
   ]
  },
  {
   "cell_type": "code",
   "execution_count": 25,
   "metadata": {
    "collapsed": true
   },
   "outputs": [],
   "source": [
    "import scipy.stats"
   ]
  },
  {
   "cell_type": "code",
   "execution_count": 26,
   "metadata": {
    "collapsed": false
   },
   "outputs": [
    {
     "name": "stdout",
     "output_type": "stream",
     "text": [
      "is the p value 0.20 smaller than the critical value 0.05?\n",
      "NO!\n",
      "the Null hypothesis is not rejected\n"
     ]
    }
   ],
   "source": [
    "z = abs(z)\n",
    "p_val = 1 - scipy.stats.norm.cdf(z)\n",
    "report_result(p_val, alpha)"
   ]
  },
  {
   "cell_type": "code",
   "execution_count": 27,
   "metadata": {
    "collapsed": false
   },
   "outputs": [
    {
     "name": "stdout",
     "output_type": "stream",
     "text": [
      "0.198319188134\n"
     ]
    }
   ],
   "source": [
    "print(p_val)"
   ]
  },
  {
   "cell_type": "markdown",
   "metadata": {},
   "source": [
    "###Chi-square"
   ]
  },
  {
   "cell_type": "code",
   "execution_count": 31,
   "metadata": {
    "collapsed": false
   },
   "outputs": [
    {
     "data": {
      "text/plain": [
       "array([[ 395.364 ,  168.636 ],\n",
       "       [  12.4745,  394.685 ]])"
      ]
     },
     "execution_count": 31,
     "metadata": {},
     "output_type": "execute_result"
    }
   ],
   "source": [
    "#Ntot = 973 # a + b + c + d = tot\n",
    "\n",
    "s#ample_values = np.array([[0.701 * 564, 0.299 * 564], [0.0305 * 409, 0.965 * 409]])\n",
    "#sample_values"
   ]
  },
  {
   "cell_type": "code",
   "execution_count": 32,
   "metadata": {
    "collapsed": true
   },
   "outputs": [],
   "source": [
    "from scipy.stats import chisquare"
   ]
  },
  {
   "cell_type": "code",
   "execution_count": 33,
   "metadata": {
    "collapsed": false
   },
   "outputs": [
    {
     "data": {
      "text/plain": [
       "Power_divergenceResult(statistic=432.0400995189255, pvalue=2.5373959963556308e-93)"
      ]
     },
     "execution_count": 33,
     "metadata": {},
     "output_type": "execute_result"
    }
   ],
   "source": [
    "chisquare(sample_values, axis=None)"
   ]
  },
  {
   "cell_type": "code",
   "execution_count": 34,
   "metadata": {
    "collapsed": false
   },
   "outputs": [],
   "source": [
    "con_table = np.array([[p_1 * n_1, (1-p_1)*n_1], [p_0 * n_0, (1-p_0)* n_0]])"
   ]
  },
  {
   "cell_type": "code",
   "execution_count": 35,
   "metadata": {
    "collapsed": false
   },
   "outputs": [
    {
     "data": {
      "text/plain": [
       "array([[  56.8  ,  511.2  ],\n",
       "       [  47.853,  361.147]])"
      ]
     },
     "execution_count": 35,
     "metadata": {},
     "output_type": "execute_result"
    }
   ],
   "source": [
    "con_table"
   ]
  },
  {
   "cell_type": "code",
   "execution_count": 42,
   "metadata": {
    "collapsed": false
   },
   "outputs": [
    {
     "data": {
      "text/plain": [
       "Power_divergenceResult(statistic=649.48411552917082, pvalue=1.8845503190687889e-140)"
      ]
     },
     "execution_count": 42,
     "metadata": {},
     "output_type": "execute_result"
    }
   ],
   "source": [
    "chisquare(con_table, axis=None)"
   ]
  },
  {
   "cell_type": "code",
   "execution_count": 43,
   "metadata": {
    "collapsed": false
   },
   "outputs": [
    {
     "data": {
      "text/plain": [
       "(0.71849391750528779,\n",
       " 0.3966383762686172,\n",
       " 1,\n",
       " array([[  60.84227636,  507.15772364],\n",
       "        [  43.81072364,  365.18927636]]))"
      ]
     },
     "execution_count": 43,
     "metadata": {},
     "output_type": "execute_result"
    }
   ],
   "source": [
    "scipy.stats.chi2_contingency(con_table, correction=False)"
   ]
  },
  {
   "cell_type": "code",
   "execution_count": null,
   "metadata": {
    "collapsed": true
   },
   "outputs": [],
   "source": []
  }
 ],
 "metadata": {
  "kernelspec": {
   "display_name": "PUI2016_Python2",
   "language": "python",
   "name": "pui2016_python2"
  },
  "language_info": {
   "codemirror_mode": {
    "name": "ipython",
    "version": 2
   },
   "file_extension": ".py",
   "mimetype": "text/x-python",
   "name": "python",
   "nbconvert_exporter": "python",
   "pygments_lexer": "ipython2",
   "version": "2.7.12"
  }
 },
 "nbformat": 4,
 "nbformat_minor": 0
}
