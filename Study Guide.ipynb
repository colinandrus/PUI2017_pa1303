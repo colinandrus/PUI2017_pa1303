{
 "cells": [
  {
   "cell_type": "markdown",
   "metadata": {},
   "source": [
    "# PUI Study Guide"
   ]
  },
  {
   "cell_type": "markdown",
   "metadata": {
    "collapsed": true
   },
   "source": [
    "### Tests for Correlation\n",
    "* Spearman's\n",
    "* Pearman's\n",
    "* Null hypothesis is that the two distributions are uncorrelated"
   ]
  },
  {
   "cell_type": "markdown",
   "metadata": {},
   "source": [
    "### z-test and t-test\n",
    "* general rule of Thumb, use t-test when sample size < 30 and has an unknown population deviation\n",
    "* z-score - Xbar - mu / sigma * sqrt(n)\n",
    "* t-score - Xbar - mu / s * sqrt(n)"
   ]
  },
  {
   "cell_type": "markdown",
   "metadata": {},
   "source": [
    "Chi-Square sum of (y - yhat)^2 / yhat\n",
    "Pearsons chi square goodness of fit test (1 / DOF) *( O- E)^2 / sigma ^ 2"
   ]
  },
  {
   "cell_type": "code",
   "execution_count": null,
   "metadata": {
    "collapsed": true
   },
   "outputs": [],
   "source": [
    "WLS - weights are 1/y\n",
    "OLS"
   ]
  },
  {
   "cell_type": "code",
   "execution_count": null,
   "metadata": {
    "collapsed": true
   },
   "outputs": [],
   "source": [
    "KS compares the the CDFs of two distributions\n",
    "AD compares a distribution to a known distribution\n"
   ]
  },
  {
   "cell_type": "markdown",
   "metadata": {},
   "source": [
    "        Option 1\n",
    "\n",
    "    !wget #insert url\n",
    "\n",
    "    os.system(\"mv filename.filetype os.getenv(\"PUIDATA\")\") #if space in file name:\n",
    "                                                            #\"nyc_pluto_16v2\\ .zip\" with \"\\ \" working as space\n",
    "\n",
    "    Option 2\n",
    "\n",
    " \n",
    "\n",
    "    !curl -O #insert link\n",
    "\n",
    "    cmd = \"mv rows.csv \" + os.getenv(\"PUIDATA\")\n",
    "\n",
    "    print(cmd)\n",
    "\n",
    "    os.system(cmd)\n",
    "\n",
    "\n",
    "    **if zipped**\n",
    "\n",
    "    !unzip -d $PUIDATA nyc_pluto_16v2\\ .zip\n",
    "\n",
    "\n",
    "    **Finally...this is for all methods!**\n",
    "\n",
    "    df = pd.read_csv(os.getenv(\"PUIDATA\") + \"/MN.csv\")"
   ]
  },
  {
   "cell_type": "code",
   "execution_count": 1,
   "metadata": {
    "collapsed": false
   },
   "outputs": [
    {
     "name": "stdout",
     "output_type": "stream",
     "text": [
      "--2017-10-25 16:56:30--  https://www1.nyc.gov/assets/planning/download/zip/data-maps/open-data/nyc_pluto_16v2%20.zip\n",
      "Resolving www1.nyc.gov... 104.106.240.221, 2600:1400:a:1a3::1500, 2600:1400:a:18f::1500\n",
      "Connecting to www1.nyc.gov|104.106.240.221|:443... connected.\n",
      "HTTP request sent, awaiting response... 200 OK\n",
      "Length: 50630337 (48M) [application/zip]\n",
      "Saving to: “nyc_pluto_16v2 .zip”\n",
      "\n",
      "100%[======================================>] 50,630,337  19.1M/s   in 2.5s    \n",
      "\n",
      "2017-10-25 16:56:33 (19.1 MB/s) - “nyc_pluto_16v2 .zip” saved [50630337/50630337]\n",
      "\n"
     ]
    }
   ],
   "source": [
    "#!wget \"https://www1.nyc.gov/assets/planning/download/zip/data-maps/open-data/nyc_pluto_16v2%20.zip\""
   ]
  },
  {
   "cell_type": "code",
   "execution_count": 6,
   "metadata": {
    "collapsed": false
   },
   "outputs": [
    {
     "name": "stdout",
     "output_type": "stream",
     "text": [
      "Archive:  nyc_pluto_16v2 .zip\n",
      "  inflating: /home/cusp/pa1303/PUIdata/BORO_zip_files_csv/BK.csv  \n",
      "  inflating: /home/cusp/pa1303/PUIdata/BORO_zip_files_csv/BX.csv  \n",
      "  inflating: /home/cusp/pa1303/PUIdata/BORO_zip_files_csv/MN.csv  \n",
      "  inflating: /home/cusp/pa1303/PUIdata/BORO_zip_files_csv/PLUTODD16v2.pdf  \n",
      "  inflating: /home/cusp/pa1303/PUIdata/BORO_zip_files_csv/Plutolay16v2.pdf  \n",
      "  inflating: /home/cusp/pa1303/PUIdata/BORO_zip_files_csv/PlutoReadme16v2.pdf  \n",
      "  inflating: /home/cusp/pa1303/PUIdata/BORO_zip_files_csv/QN.csv  \n",
      "  inflating: /home/cusp/pa1303/PUIdata/BORO_zip_files_csv/SI.csv  \n"
     ]
    }
   ],
   "source": [
    "!unzip \"nyc_pluto_16v2 \" -d \"$PUIDATA\""
   ]
  },
  {
   "cell_type": "code",
   "execution_count": 7,
   "metadata": {
    "collapsed": true
   },
   "outputs": [],
   "source": [
    "import os"
   ]
  },
  {
   "cell_type": "markdown",
   "metadata": {},
   "source": [
    "# code to know"
   ]
  },
  {
   "cell_type": "markdown",
   "metadata": {},
   "source": [
    "from __future__ import division, print_function\n",
    "z = (timesOldMean - timesNew.mean()) / (timesOldStd / np.sqrt(len(timesNew)))\n",
    "\n",
    "convicted of a fellony 1-3y \trecidive \tnot recidive <br>\n",
    "test sample \t$10.0*5.68$ \t$90.0*5.68$ \t568 <br>\n",
    "control sample \t$11. 7*4.09$ \t$88.3*4.09$ \t409 <br>\n",
    "\t\t\t\n",
    "total \t104.653 \t872.347 \t977"
   ]
  },
  {
   "cell_type": "code",
   "execution_count": 9,
   "metadata": {
    "collapsed": true
   },
   "outputs": [],
   "source": [
    "sample_values_recid = [[0.100 * 568, 0.90 * 568],[0.117 * 409, 0.883 * 409]]"
   ]
  },
  {
   "cell_type": "markdown",
   "metadata": {},
   "source": [
    "he expected ratio is the product of the total of all rows and all columns, devided by the total\n",
    "\n",
    "expected = $\\frac{\\mathrm{row tot} * \\mathrm{col tot}}{\\mathrm{total}}$\n"
   ]
  },
  {
   "cell_type": "code",
   "execution_count": null,
   "metadata": {
    "collapsed": true
   },
   "outputs": [],
   "source": [
    "alpha = 0.05\n",
    "np.random.seed(999)\n",
    "dist_n = np.random.randn(1000) \n",
    "\n",
    "#test ad and ks. those are easy\n",
    "print (\"normal on normal\", scipy.stats.kstest(dist_n,'norm'))\n",
    "print (\"normal on normal\", scipy.stats.anderson(dist_n, dist='norm'))\n",
    "print (\"\")"
   ]
  },
  {
   "cell_type": "markdown",
   "metadata": {},
   "source": [
    "## Polyfit"
   ]
  },
  {
   "cell_type": "code",
   "execution_count": 10,
   "metadata": {
    "collapsed": false
   },
   "outputs": [
    {
     "ename": "NameError",
     "evalue": "name 'np' is not defined",
     "output_type": "error",
     "traceback": [
      "\u001b[0;31m\u001b[0m",
      "\u001b[0;31mNameError\u001b[0mTraceback (most recent call last)",
      "\u001b[0;32m<ipython-input-10-5279c5200c34>\u001b[0m in \u001b[0;36m<module>\u001b[0;34m()\u001b[0m\n\u001b[0;32m----> 1\u001b[0;31m \u001b[0mpolyfit_coeffs\u001b[0m \u001b[0;34m=\u001b[0m \u001b[0mnp\u001b[0m\u001b[0;34m.\u001b[0m\u001b[0mpolyfit\u001b[0m\u001b[0;34m(\u001b[0m\u001b[0mdf_\u001b[0m\u001b[0;34m[\u001b[0m\u001b[0;34m'x'\u001b[0m\u001b[0;34m]\u001b[0m\u001b[0;34m,\u001b[0m \u001b[0mdf_\u001b[0m\u001b[0;34m[\u001b[0m\u001b[0;34m'y'\u001b[0m\u001b[0;34m]\u001b[0m\u001b[0;34m,\u001b[0m \u001b[0;36m1\u001b[0m\u001b[0;34m)\u001b[0m\u001b[0;34m\u001b[0m\u001b[0m\n\u001b[0m\u001b[1;32m      2\u001b[0m \u001b[0;34m\u001b[0m\u001b[0m\n\u001b[1;32m      3\u001b[0m \u001b[0mfig\u001b[0m \u001b[0;34m=\u001b[0m \u001b[0mpl\u001b[0m\u001b[0;34m.\u001b[0m\u001b[0mfigure\u001b[0m\u001b[0;34m(\u001b[0m\u001b[0mfigsize\u001b[0m\u001b[0;34m=\u001b[0m\u001b[0;34m(\u001b[0m\u001b[0;36m10\u001b[0m\u001b[0;34m,\u001b[0m\u001b[0;36m5\u001b[0m\u001b[0;34m)\u001b[0m\u001b[0;34m)\u001b[0m\u001b[0;34m\u001b[0m\u001b[0m\n\u001b[1;32m      4\u001b[0m \u001b[0max\u001b[0m \u001b[0;34m=\u001b[0m \u001b[0mfig\u001b[0m\u001b[0;34m.\u001b[0m\u001b[0madd_subplot\u001b[0m\u001b[0;34m(\u001b[0m\u001b[0;36m111\u001b[0m\u001b[0;34m)\u001b[0m\u001b[0;34m\u001b[0m\u001b[0m\n\u001b[1;32m      5\u001b[0m \u001b[0mdf_\u001b[0m\u001b[0;34m.\u001b[0m\u001b[0mplot\u001b[0m\u001b[0;34m.\u001b[0m\u001b[0mscatter\u001b[0m\u001b[0;34m(\u001b[0m\u001b[0mx\u001b[0m\u001b[0;34m=\u001b[0m\u001b[0;34m\"x\"\u001b[0m\u001b[0;34m,\u001b[0m \u001b[0my\u001b[0m\u001b[0;34m=\u001b[0m\u001b[0;34m\"y\"\u001b[0m\u001b[0;34m,\u001b[0m \u001b[0max\u001b[0m\u001b[0;34m=\u001b[0m\u001b[0max\u001b[0m\u001b[0;34m)\u001b[0m\u001b[0;34m\u001b[0m\u001b[0m\n",
      "\u001b[0;31mNameError\u001b[0m: name 'np' is not defined"
     ]
    }
   ],
   "source": [
    "polyfit_coeffs = np.polyfit(df_['x'], df_['y'], 1)\n",
    "\n",
    "fig = pl.figure(figsize=(10,5))\n",
    "ax = fig.add_subplot(111)\n",
    "df_.plot.scatter(x=\"x\", y=\"y\", ax=ax)\n",
    "ax.plot(df_.x, polyfit_coeffs[0] + polyfit_coeffs[1] * df_.x, '-', color='DarkOrange', label=\"polyfit\")\n",
    "ax.set_ylabel(\"Number of mass shootings per person (x 10,000,000)\")\n",
    "ax.set_xlabel(\"Average civilian fire arms per person\")\n",
    "pl.legend()\n",
    "print (\"polyfit coefficients:\", polyfit_coeffs)"
   ]
  },
  {
   "cell_type": "code",
   "execution_count": null,
   "metadata": {
    "collapsed": true
   },
   "outputs": [],
   "source": []
  }
 ],
 "metadata": {
  "kernelspec": {
   "display_name": "PUI2016_Python2",
   "language": "python",
   "name": "pui2016_python2"
  },
  "language_info": {
   "codemirror_mode": {
    "name": "ipython",
    "version": 2
   },
   "file_extension": ".py",
   "mimetype": "text/x-python",
   "name": "python",
   "nbconvert_exporter": "python",
   "pygments_lexer": "ipython2",
   "version": "2.7.12"
  }
 },
 "nbformat": 4,
 "nbformat_minor": 0
}
